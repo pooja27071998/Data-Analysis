{
 "cells": [
  {
   "cell_type": "code",
   "execution_count": 1,
   "metadata": {
    "collapsed": true
   },
   "outputs": [],
   "source": [
    "import numpy as np\n",
    "import pandas as pd\n",
    "import matplotlib.pyplot as plt\n",
    "import seaborn as sns\n",
    "%matplotlib inline"
   ]
  },
  {
   "cell_type": "code",
   "execution_count": 2,
   "metadata": {
    "collapsed": true
   },
   "outputs": [],
   "source": [
    "data = pd.read_csv(\"iris.csv\")"
   ]
  },
  {
   "cell_type": "code",
   "execution_count": 3,
   "metadata": {
    "collapsed": true
   },
   "outputs": [],
   "source": [
    "iris_setosa = data.loc[data['species'] == 'setosa']\n",
    "iris_versicolor = data.loc[data['species'] == 'versicolor']\n",
    "iris_virginica = data.loc[data['species'] == 'virginica']"
   ]
  },
  {
   "cell_type": "markdown",
   "metadata": {},
   "source": [
    "# Histogram of Petal Length for Setosa flowers - Density turned OFF"
   ]
  },
  {
   "cell_type": "code",
   "execution_count": 4,
   "metadata": {},
   "outputs": [
    {
     "data": {
      "text/plain": [
       "<seaborn.axisgrid.FacetGrid at 0x21ce60da978>"
      ]
     },
     "execution_count": 4,
     "metadata": {},
     "output_type": "execute_result"
    },
    {
     "data": {
      "image/png": "[encoded data removed]",
      "text/plain": [
       "<matplotlib.figure.Figure at 0x21ce60dacc0>"
      ]
     },
     "metadata": {},
     "output_type": "display_data"
    }
   ],
   "source": [
    "sns.FacetGrid(iris_setosa, hue = 'species', size = 5)\\\n",
    "    .map(sns.distplot, 'petal_length', bins = 10, kde = False, hist_kws=dict(edgecolor=\"k\", linewidth=2))\\\n",
    "    .add_legend()"
   ]
  },
  {
   "cell_type": "code",
   "execution_count": 49,
   "metadata": {},
   "outputs": [
    {
     "name": "stdout",
     "output_type": "stream",
     "text": [
      "Histogram values = [ 1  1  2  7 12 14  7  4  0  2] \n",
      "\n",
      "Bin edges = [ 1.    1.09  1.18  1.27  1.36  1.45  1.54  1.63  1.72  1.81  1.9 ]\n"
     ]
    }
   ],
   "source": [
    "hist, bin_edges = np.histogram(iris_setosa['petal_length'], bins=10)\n",
    "print(\"Histogram values =\", hist, \"\\n\\nBin edges =\", bin_edges)"
   ]
  },
  {
   "cell_type": "markdown",
   "metadata": {},
   "source": [
    "** np.histogram(a, bins) returns:**\n",
    "* The values of the histogram at every bin\n",
    "* Bin Edges = len(a) + 1\n",
    "\n",
    "**Below loop explains the above two arrays**"
   ]
  },
  {
   "cell_type": "code",
   "execution_count": 30,
   "metadata": {},
   "outputs": [
    {
     "name": "stdout",
     "output_type": "stream",
     "text": [
      "1 setosa flower/s have petal length between 1.0 and 1.09\n",
      "\n",
      "1 setosa flower/s have petal length between 1.09 and 1.18\n",
      "\n",
      "2 setosa flower/s have petal length between 1.18 and 1.27\n",
      "\n",
      "7 setosa flower/s have petal length between 1.27 and 1.36\n",
      "\n",
      "12 setosa flower/s have petal length between 1.36 and 1.45\n",
      "\n",
      "14 setosa flower/s have petal length between 1.45 and 1.54\n",
      "\n",
      "7 setosa flower/s have petal length between 1.54 and 1.63\n",
      "\n",
      "4 setosa flower/s have petal length between 1.63 and 1.72\n",
      "\n",
      "0 setosa flower/s have petal length between 1.72 and 1.81\n",
      "\n",
      "2 setosa flower/s have petal length between 1.81 and 1.9\n",
      "\n"
     ]
    }
   ],
   "source": [
    "for i in range(len(hist)):\n",
    "    print(\"{} setosa flower/s have petal length between {} and {}\\n\"\\\n",
    "          .format(hist[i], round(bin_edges[i], 2), round(bin_edges[i+1], 2)))"
   ]
  },
  {
   "cell_type": "code",
   "execution_count": 17,
   "metadata": {},
   "outputs": [
    {
     "data": {
      "text/plain": [
       "50"
      ]
     },
     "execution_count": 17,
     "metadata": {},
     "output_type": "execute_result"
    }
   ],
   "source": [
    "## Note sum(hist) = 50\n",
    "sum(hist)"
   ]
  },
  {
   "cell_type": "markdown",
   "metadata": {},
   "source": [
    "**This is because total number of setosa flowers are 50**\n",
    "\n",
    "**Also Note:<br>\n",
    "Min value of petal length of setosa is 1<br>\n",
    "Max value of petal length of setosa is 1.9<br>\n",
    "Since we have specified 10 bins, the range 1 to 1.9 is divided into 10 equal parts**"
   ]
  },
  {
   "cell_type": "markdown",
   "metadata": {},
   "source": [
    "# Histogram of Petal Length for Setosa flowers - Density turned ON"
   ]
  },
  {
   "cell_type": "code",
   "execution_count": 19,
   "metadata": {},
   "outputs": [
    {
     "data": {
      "text/plain": [
       "<seaborn.axisgrid.FacetGrid at 0x21ce63c4e80>"
      ]
     },
     "execution_count": 19,
     "metadata": {},
     "output_type": "execute_result"
    },
    {
     "data": {
      "image/png": "[encoded data removed]",
      "text/plain": [
       "<matplotlib.figure.Figure at 0x21ce63c4a90>"
      ]
     },
     "metadata": {},
     "output_type": "display_data"
    }
   ],
   "source": [
    "sns.FacetGrid(iris_setosa, hue = 'species', size = 5)\\\n",
    "    .map(sns.distplot, 'petal_length', bins = 10, hist_kws=dict(edgecolor=\"k\", linewidth=2))\\\n",
    "    .add_legend()"
   ]
  },
  {
   "cell_type": "code",
   "execution_count": 50,
   "metadata": {},
   "outputs": [
    {
     "name": "stdout",
     "output_type": "stream",
     "text": [
      "Histogram values = [ 0.22222222  0.22222222  0.44444444  1.55555556  2.66666667  3.11111111\n",
      "  1.55555556  0.88888889  0.          0.44444444] \n",
      "\n",
      "Bin edges = [ 1.    1.09  1.18  1.27  1.36  1.45  1.54  1.63  1.72  1.81  1.9 ]\n"
     ]
    }
   ],
   "source": [
    "hist, bin_edges = np.histogram(iris_setosa['petal_length'], bins=10, density = True)\n",
    "print(\"Histogram values =\", hist, \"\\n\\nBin edges =\", bin_edges)"
   ]
  },
  {
   "cell_type": "markdown",
   "metadata": {},
   "source": [
    "**Below loop explains the above two arrays**"
   ]
  },
  {
   "cell_type": "code",
   "execution_count": 39,
   "metadata": {},
   "outputs": [
    {
     "name": "stdout",
     "output_type": "stream",
     "text": [
      "The probability that a setosa flower has petal length between 1.0 and 1.09 is 0.02\n",
      "\n",
      "The probability that a setosa flower has petal length between 1.09 and 1.18 is 0.02\n",
      "\n",
      "The probability that a setosa flower has petal length between 1.18 and 1.27 is 0.04\n",
      "\n",
      "The probability that a setosa flower has petal length between 1.27 and 1.36 is 0.14\n",
      "\n",
      "The probability that a setosa flower has petal length between 1.36 and 1.45 is 0.24\n",
      "\n",
      "The probability that a setosa flower has petal length between 1.45 and 1.54 is 0.28\n",
      "\n",
      "The probability that a setosa flower has petal length between 1.54 and 1.63 is 0.14\n",
      "\n",
      "The probability that a setosa flower has petal length between 1.63 and 1.72 is 0.08\n",
      "\n",
      "The probability that a setosa flower has petal length between 1.72 and 1.81 is 0.0\n",
      "\n",
      "The probability that a setosa flower has petal length between 1.81 and 1.9 is 0.04\n",
      "\n"
     ]
    }
   ],
   "source": [
    "for i in range(len(hist)):\n",
    "    print(\"The probability that a setosa flower has petal length between {1} and {2} is {0}\\n\"\\\n",
    "          .format(round(hist[i]/sum(hist), 2),\\\n",
    "                  round(bin_edges[i], 2), round(bin_edges[i+1], 2)))"
   ]
  },
  {
   "cell_type": "markdown",
   "metadata": {},
   "source": [
    "**Note: The probability is calculated by calculating the area under the specific bin**\n",
    "\n",
    "**Also note the sum of all the probabilites is 1, which means sum of the area of all the bins is 1**\n",
    "\n",
    "**How did we calculate the above probabilities (area under each bin)?**"
   ]
  },
  {
   "cell_type": "markdown",
   "metadata": {},
   "source": [
    "# Calculating PDF\n",
    "* PDF for a bin is equal to the area of that bin\n",
    "* We know that total area of all the bins is 1\n",
    "* The percentage area of every bin will give its PDF value\n",
    "* Percentage area = (Area of that bin)/(Total area of all the bins)\n",
    "* But since the bas of all the bins is same, we can only consider their heights\n",
    "* Thus, Percentage area = (Height of that bin)/(Total heights of all the bins)\n",
    "* Hence, PDF can be calculated by normalising the histogram values at every point\n",
    "* This is nothing but the area under each bin"
   ]
  },
  {
   "cell_type": "code",
   "execution_count": 33,
   "metadata": {},
   "outputs": [
    {
     "data": {
      "text/plain": [
       "array([ 0.02,  0.02,  0.04,  0.14,  0.24,  0.28,  0.14,  0.08,  0.  ,  0.04])"
      ]
     },
     "execution_count": 33,
     "metadata": {},
     "output_type": "execute_result"
    }
   ],
   "source": [
    "pdf = hist/sum(hist)\n",
    "pdf"
   ]
  },
  {
   "cell_type": "code",
   "execution_count": 47,
   "metadata": {},
   "outputs": [
    {
     "data": {
      "text/plain": [
       "<matplotlib.text.Text at 0x21ce77de5f8>"
      ]
     },
     "execution_count": 47,
     "metadata": {},
     "output_type": "execute_result"
    },
    {
     "data": {
      "image/png": "[encoded data removed]",
      "text/plain": [
       "<matplotlib.figure.Figure at 0x21ce785f128>"
      ]
     },
     "metadata": {},
     "output_type": "display_data"
    }
   ],
   "source": [
    "plt.grid()\n",
    "plt.plot(bin_edges[1:], pdf)\n",
    "plt.xlabel(\"PL_Setosa\")\n",
    "plt.ylabel(\"Probability\")"
   ]
  },
  {
   "cell_type": "markdown",
   "metadata": {},
   "source": [
    "**From PDF we can infer points like:**\n",
    "\n",
    "Probability that a setosa will have PL as 1.09 is 0.02<br>\n",
    "Probability that a setosa will have PL as 1.18 is 0.02<br>\n",
    "Probability that a setosa will have PL as 1.27 is 0.04<br>\n",
    "and so on..."
   ]
  },
  {
   "cell_type": "markdown",
   "metadata": {},
   "source": [
    "**By increasing the no of bins we will get a smoother curve as plotted in the sns.distplot() above**"
   ]
  },
  {
   "cell_type": "markdown",
   "metadata": {},
   "source": [
    "# Calculating CDF"
   ]
  },
  {
   "cell_type": "code",
   "execution_count": 45,
   "metadata": {},
   "outputs": [
    {
     "data": {
      "text/plain": [
       "array([ 0.02,  0.04,  0.08,  0.22,  0.46,  0.74,  0.88,  0.96,  0.96,  1.  ])"
      ]
     },
     "execution_count": 45,
     "metadata": {},
     "output_type": "execute_result"
    }
   ],
   "source": [
    "## A cumulative sum of PDF uptil a certain point will give the CDF at that point\n",
    "cdf = np.cumsum(pdf)\n",
    "cdf"
   ]
  },
  {
   "cell_type": "code",
   "execution_count": 48,
   "metadata": {},
   "outputs": [
    {
     "data": {
      "text/plain": [
       "<matplotlib.text.Text at 0x21ce78f2f28>"
      ]
     },
     "execution_count": 48,
     "metadata": {},
     "output_type": "execute_result"
    },
    {
     "data": {
      "image/png": "[encoded data removed]",
      "text/plain": [
       "<matplotlib.figure.Figure at 0x21ce78d52e8>"
      ]
     },
     "metadata": {},
     "output_type": "display_data"
    }
   ],
   "source": [
    "plt.grid()\n",
    "plt.plot(bin_edges[1:], pdf)\n",
    "plt.plot(bin_edges[1:], cdf)\n",
    "plt.xlabel(\"PL_Setosa\")\n",
    "plt.ylabel(\"Probability\")"
   ]
  },
  {
   "cell_type": "markdown",
   "metadata": {},
   "source": [
    "**From CDF we can infer points like:**\n",
    "\n",
    "Probability that a setosa will have PL <= 1.09 is 0.02<br>\n",
    "Probability that a setosa will have PL <= 1.18 is 0.04<br>\n",
    "Probability that a setosa will have PL <= 1.27 is 0.08<br>\n",
    "and so on...\n",
    "\n",
    "**Note in case of CDF the previous probabilities are getting summed up**"
   ]
  }
 ],
 "metadata": {
  "kernelspec": {
   "display_name": "Python 3",
   "language": "python",
   "name": "python3"
  },
  "language_info": {
   "codemirror_mode": {
    "name": "ipython",
    "version": 3
   },
   "file_extension": ".py",
   "mimetype": "text/x-python",
   "name": "python",
   "nbconvert_exporter": "python",
   "pygments_lexer": "ipython3",
   "version": "3.6.5"
  }
 },
 "nbformat": 4,
 "nbformat_minor": 2
}
