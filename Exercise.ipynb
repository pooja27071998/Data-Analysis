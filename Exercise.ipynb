{
 "cells": [
  {
   "cell_type": "markdown",
   "metadata": {},
   "source": [
    "# EDA - Haberman's data\n",
    "1. Create an account on the https://www.kaggle.com/\n",
    "2. Download Haberman Cancer Survival dataset from this link - https://www.kaggle.com/gilsousa/habermans-survival-data-set\n",
    "3. Read the data in a Pandas Dataframe\n",
    "4. Find no. of features, observations, etc. \n",
    "5. Write down the objective\n",
    "6. Perform Univariate Analysis\n",
    "7. Perform Bivariate Analysis\n",
    "8. Write down your observations as clearly as possible\n",
    "9. Use if..else to quantify your results"
   ]
  },
  {
   "cell_type": "code",
   "execution_count": null,
   "metadata": {
    "collapsed": true
   },
   "outputs": [],
   "source": []
  }
 ],
 "metadata": {
  "kernelspec": {
   "display_name": "Python 3",
   "language": "python",
   "name": "python3"
  },
  "language_info": {
   "codemirror_mode": {
    "name": "ipython",
    "version": 3
   },
   "file_extension": ".py",
   "mimetype": "text/x-python",
   "name": "python",
   "nbconvert_exporter": "python",
   "pygments_lexer": "ipython3",
   "version": "3.5.4"
  }
 },
 "nbformat": 4,
 "nbformat_minor": 2
}
